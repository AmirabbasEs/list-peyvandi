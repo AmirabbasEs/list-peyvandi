{
 "cells": [
  {
   "cell_type": "code",
   "execution_count": null,
   "id": "fb9b478f",
   "metadata": {},
   "outputs": [],
   "source": [
    "def heapify(arr, start, end):\n",
    "\n",
    "    root = start\n",
    "    while root * 2 + 1 <= end:\n",
    "            child = root * 2 + 1\n",
    "   \n",
    "            if child + 1 <= end and arr[child] < arr[child + 1]:\n",
    "                  child += 1\n",
    "            if child <= end and arr[root] < arr[child]:\n",
    "                  arr[root], arr[child] = arr[child], arr[root]\n",
    "                root = child\n",
    "            else:\n",
    "                return\n",
    "\n",
    "def heapsort(arr):\n",
    "  \n",
    "    end = len(arr) - 1\n",
    "    for start in range(end, -1, -1):\n",
    "        heapify(arr, start, end)\n",
    "    for i in range(end, 0, -1):\n",
    "        arr[i], arr[0] = arr[0], arr[i]\n",
    "        heapify(arr, 0, i - 1)\n",
    "data = [5, 2, 4, 6, 1, 3]\n",
    "print(\"آرایه ورودی:\", data)\n",
    "\n",
    "heapsort(data)\n",
    "print(\"آرایه مرتب شده:\", data)\n"
   ]
  }
 ],
 "metadata": {
  "kernelspec": {
   "display_name": "Python 3 (ipykernel)",
   "language": "python",
   "name": "python3"
  },
  "language_info": {
   "codemirror_mode": {
    "name": "ipython",
    "version": 3
   },
   "file_extension": ".py",
   "mimetype": "text/x-python",
   "name": "python",
   "nbconvert_exporter": "python",
   "pygments_lexer": "ipython3",
   "version": "3.11.5"
  }
 },
 "nbformat": 4,
 "nbformat_minor": 5
}
